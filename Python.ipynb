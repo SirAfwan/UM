{
  "nbformat": 4,
  "nbformat_minor": 0,
  "metadata": {
    "colab": {
      "provenance": [],
      "authorship_tag": "ABX9TyMeRVZ/EwnB8dmFuKUPh/AV",
      "include_colab_link": true
    },
    "kernelspec": {
      "name": "python3",
      "display_name": "Python 3"
    },
    "language_info": {
      "name": "python"
    }
  },
  "cells": [
    {
      "cell_type": "markdown",
      "metadata": {
        "id": "view-in-github",
        "colab_type": "text"
      },
      "source": [
        "<a href=\"https://colab.research.google.com/github/SirAfwan/UM/blob/main/Python.ipynb\" target=\"_parent\"><img src=\"https://colab.research.google.com/assets/colab-badge.svg\" alt=\"Open In Colab\"/></a>"
      ]
    },
    {
      "cell_type": "markdown",
      "source": [
        "##**Introduction**"
      ],
      "metadata": {
        "id": "qZB0mav6IO2U"
      }
    },
    {
      "cell_type": "code",
      "source": [
        "print(\"Hello World\")"
      ],
      "metadata": {
        "id": "L-FEuEdKIZsq"
      },
      "execution_count": null,
      "outputs": []
    },
    {
      "cell_type": "markdown",
      "source": [
        "###Variable which stores an interger value"
      ],
      "metadata": {
        "id": "Ko9K8ZDwJJNi"
      }
    },
    {
      "cell_type": "code",
      "source": [
        "x = 3000\n",
        "print (f'Hellooo, love u {x}')\n",
        "print(x)"
      ],
      "metadata": {
        "collapsed": true,
        "id": "g23Lv-ZzJQ6T"
      },
      "execution_count": null,
      "outputs": []
    },
    {
      "cell_type": "markdown",
      "source": [
        "###Operation"
      ],
      "metadata": {
        "id": "5DnZuLlkJwnD"
      }
    },
    {
      "cell_type": "code",
      "source": [
        "y = 8\n",
        "x = 2\n",
        "z = y * x\n",
        "print(f'z is :{z}')"
      ],
      "metadata": {
        "id": "M7FLha2WJ4GZ"
      },
      "execution_count": null,
      "outputs": []
    },
    {
      "cell_type": "markdown",
      "source": [
        "###Variable which store a string"
      ],
      "metadata": {
        "id": "sl2ynLPYKkjj"
      }
    },
    {
      "cell_type": "code",
      "source": [
        "x = \"abcde\"\n",
        "print((x))"
      ],
      "metadata": {
        "id": "kzKGC850Kqtz"
      },
      "execution_count": null,
      "outputs": []
    },
    {
      "cell_type": "code",
      "source": [
        "x = \"my name is Alif\"\n",
        "print(x)\n",
        "print(len(x))\n",
        "\n",
        "y = \"and i am your student\"\n",
        "print(y)\n",
        "print(len(y))"
      ],
      "metadata": {
        "id": "3gDI5-Y9LIsr"
      },
      "execution_count": null,
      "outputs": []
    },
    {
      "cell_type": "markdown",
      "source": [
        "###Conditionals"
      ],
      "metadata": {
        "id": "ydi0NXbUMObU"
      }
    },
    {
      "cell_type": "code",
      "source": [
        "x = 4\n",
        "\n",
        "if (x==5):\n",
        "  print(\"Yay it's true!!!\")\n",
        "elif (x==4):\n",
        "  print(\"almost maa\")\n",
        "else:\n",
        "  print(\"Nooo it is false\")"
      ],
      "metadata": {
        "id": "BQi3kERbMUvy"
      },
      "execution_count": null,
      "outputs": []
    },
    {
      "cell_type": "markdown",
      "source": [
        "###Loops"
      ],
      "metadata": {
        "id": "x1xj24lFN877"
      }
    },
    {
      "cell_type": "code",
      "source": [],
      "metadata": {
        "id": "YsA5VPoQN_Ki"
      },
      "execution_count": null,
      "outputs": []
    }
  ]
}